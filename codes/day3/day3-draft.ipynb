{
 "cells": [
  {
   "cell_type": "code",
   "execution_count": 3,
   "metadata": {},
   "outputs": [],
   "source": [
    "def gensquares(n):\n",
    "    for num in range(n):\n",
    "        yield num**2"
   ]
  },
  {
   "cell_type": "code",
   "execution_count": 22,
   "metadata": {},
   "outputs": [],
   "source": [
    "j = gensquares(10)"
   ]
  },
  {
   "cell_type": "code",
   "execution_count": 26,
   "metadata": {},
   "outputs": [
    {
     "data": {
      "text/plain": [
       "9"
      ]
     },
     "execution_count": 26,
     "metadata": {},
     "output_type": "execute_result"
    }
   ],
   "source": [
    "next(j)"
   ]
  },
  {
   "cell_type": "code",
   "execution_count": 27,
   "metadata": {},
   "outputs": [
    {
     "name": "stdout",
     "output_type": "stream",
     "text": [
      "16\n",
      "25\n",
      "36\n",
      "49\n",
      "64\n",
      "81\n"
     ]
    }
   ],
   "source": [
    "for i in j:\n",
    "    print(i)"
   ]
  },
  {
   "cell_type": "code",
   "execution_count": 31,
   "metadata": {},
   "outputs": [
    {
     "name": "stdout",
     "output_type": "stream",
     "text": [
      "0\n",
      "1\n",
      "2\n",
      "3\n",
      "4\n",
      "5\n",
      "6\n",
      "7\n",
      "8\n",
      "9\n"
     ]
    },
    {
     "ename": "StopIteration",
     "evalue": "",
     "output_type": "error",
     "traceback": [
      "\u001b[0;31m---------------------------------------------------------------------------\u001b[0m",
      "\u001b[0;31mStopIteration\u001b[0m                             Traceback (most recent call last)",
      "Cell \u001b[0;32mIn[31], line 14\u001b[0m\n\u001b[1;32m     12\u001b[0m \u001b[38;5;28mprint\u001b[39m(\u001b[38;5;28mnext\u001b[39m(op)) \u001b[38;5;66;03m# 8\u001b[39;00m\n\u001b[1;32m     13\u001b[0m \u001b[38;5;28mprint\u001b[39m(\u001b[38;5;28mnext\u001b[39m(op)) \u001b[38;5;66;03m# 9\u001b[39;00m\n\u001b[0;32m---> 14\u001b[0m \u001b[38;5;28mprint\u001b[39m(\u001b[38;5;28;43mnext\u001b[39;49m\u001b[43m(\u001b[49m\u001b[43mop\u001b[49m\u001b[43m)\u001b[49m) \u001b[38;5;66;03m# Iteration Error\u001b[39;00m\n",
      "\u001b[0;31mStopIteration\u001b[0m: "
     ]
    }
   ],
   "source": [
    "l = [x for x in range(10)]\n",
    "\n",
    "op = iter(l)\n",
    "print(next(op)) # 0\n",
    "print(next(op)) # 1\n",
    "print(next(op)) # 2\n",
    "print(next(op)) # 3\n",
    "print(next(op)) # 4\n",
    "print(next(op)) # 5\n",
    "print(next(op)) # 6\n",
    "print(next(op)) # 7\n",
    "print(next(op)) # 8\n",
    "print(next(op)) # 9\n",
    "print(next(op)) # Iteration Error"
   ]
  },
  {
   "cell_type": "code",
   "execution_count": 32,
   "metadata": {},
   "outputs": [],
   "source": [
    "def shout():\n",
    "    return \"WHOA!\"\n",
    "\n",
    "def whisper():\n",
    "    return \"Shhh\"\n",
    "\n",
    "def perform_action(func):\n",
    "    print(\"Something is happening...\")\n",
    "    return func()"
   ]
  },
  {
   "cell_type": "code",
   "execution_count": 34,
   "metadata": {},
   "outputs": [
    {
     "name": "stdout",
     "output_type": "stream",
     "text": [
      "Something is happening...\n"
     ]
    },
    {
     "data": {
      "text/plain": [
       "'WHOA!'"
      ]
     },
     "execution_count": 34,
     "metadata": {},
     "output_type": "execute_result"
    }
   ],
   "source": [
    "perform_action(shout)\n",
    "# Something is happening...\n",
    "# WHOA!"
   ]
  },
  {
   "cell_type": "code",
   "execution_count": 35,
   "metadata": {},
   "outputs": [
    {
     "name": "stdout",
     "output_type": "stream",
     "text": [
      "Something is happening...\n"
     ]
    },
    {
     "data": {
      "text/plain": [
       "'Shhh'"
      ]
     },
     "execution_count": 35,
     "metadata": {},
     "output_type": "execute_result"
    }
   ],
   "source": [
    "perform_action(whisper)\n",
    "# Something is happening...\n",
    "# Shhh"
   ]
  },
  {
   "cell_type": "code",
   "execution_count": 37,
   "metadata": {},
   "outputs": [
    {
     "name": "stdout",
     "output_type": "stream",
     "text": [
      "decorate me...\n",
      "Code before calling func!\n",
      "decorate me...\n",
      "Code after calling func!\n"
     ]
    }
   ],
   "source": [
    "def decorate_me():\n",
    "    print(\"decorate me...\")\n",
    "    \n",
    "# decorate_me()\n",
    "# decorate me...\n",
    "\n",
    "def new_decorator(func):\n",
    "    def wrap_func():\n",
    "        print(\"Code before calling func!\")\n",
    "        func()\n",
    "        print(\"Code after calling func!\")\n",
    "    return wrap_func\n",
    "\n",
    "dd = new_decorator(decorate_me)\n",
    "dd()\n",
    "\n",
    "# Code before calling func!\n",
    "# decorate me...\n",
    "# Code after calling func!"
   ]
  },
  {
   "cell_type": "code",
   "execution_count": 38,
   "metadata": {},
   "outputs": [
    {
     "name": "stdout",
     "output_type": "stream",
     "text": [
      "Code before calling func!\n",
      "decorate me...\n",
      "Code after calling func!\n"
     ]
    }
   ],
   "source": [
    "def decorate_me():\n",
    "    print(\"decorate me...\")\n",
    "    \n",
    "# decorate_me()\n",
    "# decorate me...\n",
    "\n",
    "def new_decorator(func):\n",
    "    def wrap_func():\n",
    "        print(\"Code before calling func!\")\n",
    "        func()\n",
    "        print(\"Code after calling func!\")\n",
    "    return wrap_func\n",
    "\n",
    "decorate_me = new_decorator(decorate_me)\n",
    "decorate_me()\n",
    "\n",
    "# Code before calling func!\n",
    "# decorate me...\n",
    "# Code after calling func!"
   ]
  },
  {
   "cell_type": "code",
   "execution_count": 39,
   "metadata": {},
   "outputs": [
    {
     "name": "stdout",
     "output_type": "stream",
     "text": [
      "Code before calling func!\n",
      "decorate me...\n",
      "Code after calling func!\n"
     ]
    }
   ],
   "source": [
    "def new_decorator(func):\n",
    "    def wrap_func():\n",
    "        print(\"Code before calling func!\")\n",
    "        func()\n",
    "        print(\"Code after calling func!\")\n",
    "    return wrap_func\n",
    "\n",
    "@new_decorator\n",
    "def decorate_me():\n",
    "    print(\"decorate me...\")\n",
    "\n",
    "decorate_me()\n",
    "\n",
    "# Code before calling func!\n",
    "# decorate me...\n",
    "# Code after calling func!"
   ]
  },
  {
   "cell_type": "code",
   "execution_count": 69,
   "metadata": {},
   "outputs": [],
   "source": [
    "from functools import wraps\n",
    "\n",
    "def perform_action(func):\n",
    "    ''' decorator function '''\n",
    "    @wraps(func)\n",
    "    def wrap_func():\n",
    "        ''' Wrapper function '''\n",
    "        print(\"Something is happening...\")\n",
    "        return func()\n",
    "    return wrap_func\n",
    "\n",
    "@perform_action\n",
    "def shout():\n",
    "    ''' People Shouts '''\n",
    "    return \"WHOA!\"\n",
    "\n",
    "@perform_action\n",
    "def whisper():\n",
    "    ''' People Whispers '''\n",
    "    return \"Shhh\""
   ]
  },
  {
   "cell_type": "code",
   "execution_count": 58,
   "metadata": {},
   "outputs": [
    {
     "name": "stdout",
     "output_type": "stream",
     "text": [
      "Something is happening...\n"
     ]
    },
    {
     "data": {
      "text/plain": [
       "'WHOA!'"
      ]
     },
     "execution_count": 58,
     "metadata": {},
     "output_type": "execute_result"
    }
   ],
   "source": [
    "shout()\n",
    "# Something is happening...\n",
    "# 'WHOA!'"
   ]
  },
  {
   "cell_type": "code",
   "execution_count": 59,
   "metadata": {},
   "outputs": [
    {
     "name": "stdout",
     "output_type": "stream",
     "text": [
      "Something is happening...\n"
     ]
    },
    {
     "data": {
      "text/plain": [
       "'Shhh'"
      ]
     },
     "execution_count": 59,
     "metadata": {},
     "output_type": "execute_result"
    }
   ],
   "source": [
    "whisper()\n",
    "# Something is happening...\n",
    "# 'Shhh'"
   ]
  },
  {
   "cell_type": "code",
   "execution_count": 70,
   "metadata": {},
   "outputs": [
    {
     "data": {
      "text/plain": [
       "'shout'"
      ]
     },
     "execution_count": 70,
     "metadata": {},
     "output_type": "execute_result"
    }
   ],
   "source": [
    "shout.__name__\n",
    "# 'shout'"
   ]
  },
  {
   "cell_type": "code",
   "execution_count": 71,
   "metadata": {},
   "outputs": [
    {
     "data": {
      "text/plain": [
       "' People Shouts '"
      ]
     },
     "execution_count": 71,
     "metadata": {},
     "output_type": "execute_result"
    }
   ],
   "source": [
    "shout.__doc__\n",
    "# ' People Shouts '"
   ]
  },
  {
   "cell_type": "code",
   "execution_count": 74,
   "metadata": {},
   "outputs": [
    {
     "name": "stdout",
     "output_type": "stream",
     "text": [
      "Something is happening...\n",
      "WHOA, HELLO!!!\n",
      "Something is happening...\n",
      "Shhh, BE QUIET!!!\n"
     ]
    }
   ],
   "source": [
    "from functools import wraps\n",
    "\n",
    "def perform_action(func):\n",
    "    ''' Decorator function '''\n",
    "    @wraps(func)\n",
    "    def wrap_func(*args, **kwargs):\n",
    "        ''' Wrapper function '''\n",
    "        \n",
    "        # Altering or processing arguments if necessary\n",
    "        # Whatever the arguments passed converting to upper case\n",
    "        new_args = [arg.upper() for arg in args]\n",
    "        \n",
    "        # Calling the function with new arguments that are altered\n",
    "        result = func(*new_args, **kwargs)\n",
    "        print(\"Something is happening...\")\n",
    "        # Altering the result if necessary\n",
    "        return result + '!!!'\n",
    "    return wrap_func\n",
    "\n",
    "@perform_action\n",
    "def shout(message):\n",
    "    ''' People Shouts '''\n",
    "    return f\"WHOA, {message}\"\n",
    "\n",
    "@perform_action\n",
    "def whisper(message):\n",
    "    ''' People Whispers '''\n",
    "    return f\"Shhh, {message}\"\n",
    "\n",
    "# Testing the decorated functions\n",
    "print(shout(\"hello\"))\n",
    "print(whisper(\"be quiet\"))\n",
    "\n",
    "# Something is happening...\n",
    "# WHOA, HELLO!!!\n",
    "# Something is happening...\n",
    "# Shhh, BE QUIET!!!\n"
   ]
  },
  {
   "cell_type": "code",
   "execution_count": 89,
   "metadata": {},
   "outputs": [
    {
     "name": "stdout",
     "output_type": "stream",
     "text": [
      "[1, 4, 9, 16, 25]\n"
     ]
    }
   ],
   "source": [
    "def square(number):\n",
    "    return number ** 2\n",
    "\n",
    "numbers = [1, 2, 3, 4, 5]\n",
    "squared_numbers = map(square, numbers)\n",
    "\n",
    "# Convert the map object to a list for display\n",
    "print(list(squared_numbers))\n"
   ]
  },
  {
   "cell_type": "code",
   "execution_count": 90,
   "metadata": {},
   "outputs": [
    {
     "name": "stdout",
     "output_type": "stream",
     "text": [
      "[2, 4, 6]\n"
     ]
    }
   ],
   "source": [
    "def is_even(number):\n",
    "    return number % 2 == 0\n",
    "\n",
    "numbers = [1, 2, 3, 4, 5, 6]\n",
    "even_numbers = filter(is_even, numbers)\n",
    "\n",
    "# Convert the filter object to a list for display\n",
    "print(list(even_numbers))\n"
   ]
  },
  {
   "cell_type": "code",
   "execution_count": 91,
   "metadata": {},
   "outputs": [
    {
     "name": "stdout",
     "output_type": "stream",
     "text": [
      "[1, 1, 2, 3, 4, 5, 6, 9]\n"
     ]
    }
   ],
   "source": [
    "numbers = [3, 1, 4, 1, 5, 9, 2, 6]\n",
    "sorted_numbers = sorted(numbers)\n",
    "print(sorted_numbers)  # Output: [1, 1, 2, 3, 4, 5, 6, 9]\n"
   ]
  },
  {
   "cell_type": "code",
   "execution_count": 92,
   "metadata": {},
   "outputs": [
    {
     "name": "stdout",
     "output_type": "stream",
     "text": [
      "['pie', 'apple', 'banana', 'Washington']\n"
     ]
    }
   ],
   "source": [
    "words = ['banana', 'pie', 'Washington', 'apple']\n",
    "sorted_words = sorted(words, key=len)\n",
    "print(sorted_words)  # Output: ['pie', 'apple', 'banana', 'Washington']\n"
   ]
  },
  {
   "cell_type": "code",
   "execution_count": 93,
   "metadata": {},
   "outputs": [
    {
     "name": "stdout",
     "output_type": "stream",
     "text": [
      "[{'name': 'Jane', 'age': 22}, {'name': 'John', 'age': 25}]\n"
     ]
    }
   ],
   "source": [
    "data = [{'name': 'John', 'age': 25}, {'name': 'Jane', 'age': 22}]\n",
    "sorted_data = sorted(data, key=lambda x: x['age'])\n",
    "print(sorted_data)  # Sorts data by age"
   ]
  },
  {
   "cell_type": "code",
   "execution_count": 94,
   "metadata": {},
   "outputs": [
    {
     "name": "stdout",
     "output_type": "stream",
     "text": [
      "[9, 6, 5, 4, 3, 2, 1, 1]\n"
     ]
    }
   ],
   "source": [
    "numbers = [3, 1, 4, 1, 5, 9, 2, 6]\n",
    "\n",
    "sorted_numbers_desc = sorted(numbers, reverse=True)\n",
    "print(sorted_numbers_desc)  # Output: [9, 6, 5, 4, 3, 2, 1, 1]"
   ]
  },
  {
   "cell_type": "code",
   "execution_count": 95,
   "metadata": {},
   "outputs": [
    {
     "name": "stdout",
     "output_type": "stream",
     "text": [
      "This script is being run directly\n"
     ]
    }
   ],
   "source": [
    "def function_from_module():\n",
    "    print(\"Function inside the imported module.\")\n",
    "\n",
    "if __name__ == \"__main__\":\n",
    "    print(\"This script is being run directly\")\n",
    "else:\n",
    "    print(\"This script is imported\")\n"
   ]
  },
  {
   "cell_type": "code",
   "execution_count": 1,
   "metadata": {},
   "outputs": [
    {
     "name": "stdout",
     "output_type": "stream",
     "text": [
      "Divided by zero!\n",
      "Execution complete\n"
     ]
    }
   ],
   "source": [
    "try:\n",
    "    # Code that might throw an exception\n",
    "    result = 10 / 0\n",
    "except ZeroDivisionError:\n",
    "    # Code to handle the exception\n",
    "    print(\"Divided by zero!\")\n",
    "else:\n",
    "    # Code to execute if no exceptions\n",
    "    print(\"Division successful\")\n",
    "finally:\n",
    "    # Code that always executes\n",
    "    print(\"Execution complete\")\n"
   ]
  },
  {
   "cell_type": "code",
   "execution_count": 2,
   "metadata": {},
   "outputs": [
    {
     "name": "stdout",
     "output_type": "stream",
     "text": [
      "Current date and time: 2024-03-06 03:46:26.751541\n",
      "Today's date and time: 2024-03-06 03:46:26.751950\n"
     ]
    }
   ],
   "source": [
    "from datetime import datetime\n",
    "\n",
    "now = datetime.now()\n",
    "print(\"Current date and time:\", now)\n",
    "\n",
    "today = datetime.today()\n",
    "print(\"Today's date and time:\", today)\n"
   ]
  },
  {
   "cell_type": "code",
   "execution_count": 4,
   "metadata": {},
   "outputs": [
    {
     "name": "stdout",
     "output_type": "stream",
     "text": [
      "Event Start: 2024-03-06 14:00:00\n",
      "Event End: 2024-03-06 15:30:00\n",
      "1:30:00\n"
     ]
    }
   ],
   "source": [
    "from datetime import datetime, time, timedelta\n",
    "\n",
    "# Get today's date\n",
    "today = datetime.now().date()\n",
    "\n",
    "# Define start time of the event (e.g., 14:00 hours or 2 PM)\n",
    "start_time = time(14, 0)  # 14:00 hours\n",
    "\n",
    "# Combine today's date and start time\n",
    "event_start = datetime.combine(today, start_time)\n",
    "print(\"Event Start:\", event_start)\n",
    "\n",
    "# Duration of the event (e.g., 1 hour and 30 minutes)\n",
    "duration = timedelta(hours=1, minutes=30)\n",
    "\n",
    "# Calculate the event end time\n",
    "event_end = event_start + duration\n",
    "print(\"Event End:\", event_end)\n",
    "\n",
    "print(duration)"
   ]
  },
  {
   "cell_type": "code",
   "execution_count": 5,
   "metadata": {},
   "outputs": [
    {
     "name": "stdout",
     "output_type": "stream",
     "text": [
      "Year: 2024\n",
      "Month: 3\n",
      "Day: 6\n",
      "Hour: 3\n",
      "Minute: 51\n",
      "Second: 22\n"
     ]
    }
   ],
   "source": [
    "now = datetime.now()\n",
    "\n",
    "print(\"Year:\", now.year)\n",
    "print(\"Month:\", now.month)\n",
    "print(\"Day:\", now.day)\n",
    "print(\"Hour:\", now.hour)\n",
    "print(\"Minute:\", now.minute)\n",
    "print(\"Second:\", now.second)\n"
   ]
  }
 ],
 "metadata": {
  "kernelspec": {
   "display_name": ".venv",
   "language": "python",
   "name": "python3"
  },
  "language_info": {
   "codemirror_mode": {
    "name": "ipython",
    "version": 3
   },
   "file_extension": ".py",
   "mimetype": "text/x-python",
   "name": "python",
   "nbconvert_exporter": "python",
   "pygments_lexer": "ipython3",
   "version": "3.11.0"
  }
 },
 "nbformat": 4,
 "nbformat_minor": 2
}
